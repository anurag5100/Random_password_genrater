{
 "cells": [
  {
   "cell_type": "code",
   "execution_count": 1,
   "id": "9ddf11eb",
   "metadata": {},
   "outputs": [
    {
     "name": "stdout",
     "output_type": "stream",
     "text": [
      "Your Randomly Generated password is:  v8*!!h2K\n"
     ]
    }
   ],
   "source": [
    "import random \n",
    "def passwordGenerator():\n",
    "    lower='abcdefghijklmnopqrstuvwxyz'\n",
    "    upper='ABCDEFGHIJKLMNOPQRSTUVWXYZ'\n",
    "    number='0123456789'\n",
    "    special='!@#$%&*'\n",
    "    password=''\n",
    "    \n",
    "    for i in range(8):\n",
    "        l=[random.choice(lower),random.choice(upper),random.choice(number),random.choice(special)]\n",
    "        password=password+random.choice(l)\n",
    "    return password\n",
    "print('Your Randomly Generated password is: ',passwordGenerator())"
   ]
  }
 ],
 "metadata": {
  "kernelspec": {
   "display_name": "Python 3 (ipykernel)",
   "language": "python",
   "name": "python3"
  },
  "language_info": {
   "codemirror_mode": {
    "name": "ipython",
    "version": 3
   },
   "file_extension": ".py",
   "mimetype": "text/x-python",
   "name": "python",
   "nbconvert_exporter": "python",
   "pygments_lexer": "ipython3",
   "version": "3.9.7"
  }
 },
 "nbformat": 4,
 "nbformat_minor": 5
}
